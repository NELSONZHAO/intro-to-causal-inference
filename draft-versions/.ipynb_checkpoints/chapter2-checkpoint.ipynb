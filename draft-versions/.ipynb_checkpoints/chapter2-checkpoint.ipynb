{
 "cells": [
  {
   "cell_type": "markdown",
   "metadata": {},
   "source": [
    "# Notations"
   ]
  },
  {
   "cell_type": "markdown",
   "metadata": {},
   "source": [
    "- Treatment: $T$\n",
    "- Outcome: $Y$\n",
    "- Covariates: $X$"
   ]
  },
  {
   "cell_type": "markdown",
   "metadata": {},
   "source": [
    "# Potential Outcomes and Individual Treatment Effects"
   ]
  },
  {
   "cell_type": "markdown",
   "metadata": {},
   "source": [
    "## 潜在结果与观测结果（Potential Outcome v.s. Observed Outcome）"
   ]
  },
  {
   "cell_type": "markdown",
   "metadata": {},
   "source": [
    "设想一个场景，我们想知道对商品打折（Treatment）是否能够能够让小明来购买（Outcome），此时我们的Treatment为打折（$T=1$）和不打折（$T=0$），Outcome为买（$Y=1$）或者不买（$Y=0$）。此时假设我们对小明进行打折后，他来购买了我们的商品，则记为$Y(T=1)=1$，由于我们无法在实际中同时观测到不打折情况下小明的反应，我们假设有一个平行时空，我们对小明不进行打折，结果他没有购买商品，则有$Y(T=0)=0$。\n",
    "\n",
    "在上面的例子中，我们将打折后带来的Outcome记为$Y(1)$，不打折带来的Outcome记为$Y(0)$，此时我们就已经用到了潜在结果（Potential outcome）的概念。更一般地，潜在结果（potential outcome）$Y(t)$代表因为我们采用Treatment $t$后，而带来的outcome。相比于我们常说的观测结果（observed outcome）来说，潜在结果并非能够同时全部观测到，例如上面场景中，由于我们对小明同时只能施加一个Treatment，因此我们只能观测到他在商品打折后的商品购买行为，或者不打折时的购买行为。可以发现，潜在结果一般是观测结果的子集。"
   ]
  },
  {
   "cell_type": "markdown",
   "metadata": {},
   "source": [
    "## 个体因果效应（Individual Treatment Effects）"
   ]
  },
  {
   "cell_type": "markdown",
   "metadata": {},
   "source": [
    "定义个体的因果效应为：$$\\tau_i=Y_i(1)-Y_i(0)$$\n",
    "\n",
    "它代表着一个个体在不同Treatment下的潜在结果差异，也是我们在因果推断领域中主要关心的一个信息。在小明的例子中，我们可以得出**对商品打折**带来的因果效应是：$Y(1)-Y(0)=1-0=1$"
   ]
  },
  {
   "cell_type": "markdown",
   "metadata": {},
   "source": [
    "# 因果推断中的基本问题（The Fundamental Problem of Causal Inference）"
   ]
  },
  {
   "cell_type": "markdown",
   "metadata": {},
   "source": [
    "正如在上述小明的例子中所提到的，我们无法同时观测到商品打折（Treatment=1）和不打折（Treatment=0）时小明的购买行为，因此我们也就无法直接计算出打折给小明带来的因果效应结果。因此，**因果推断中的基本问题就是：对于一个个体样本，我们无法同时观测到所有的潜在结果。**\n",
    "\n",
    "> It is impossible to observe all potential outcomes for a given individual"
   ]
  },
  {
   "cell_type": "markdown",
   "metadata": {},
   "source": [
    "对于所有的潜在结果，我们仅能观测到其中一个，对于未观测到的潜在结果，我们称之为反事实（Counterfactuals）。"
   ]
  },
  {
   "cell_type": "markdown",
   "metadata": {},
   "source": [
    "# 因果推断中的假设（Geting Around the Fundamental Problem）"
   ]
  },
  {
   "cell_type": "markdown",
   "metadata": {},
   "source": [
    "**平均因果效应（Average Treatment Effects）与混杂因子（Confounders）**\n",
    "\n",
    "我们知道个体效应为:$\\tau_i=Y_i(1)-Y_i(0)$，我们定义平均因果效应（ATE）为个人因果效应（ITE）的均值：$$\\tau=\\mathbb{E}[Y_i(1)-Y_i(0)]=\\mathbb{E}[Y(1)-Y(0)]$$"
   ]
  },
  {
   "cell_type": "markdown",
   "metadata": {},
   "source": [
    "我们将小明的例子进行拓展，此时对一群人进行了打折，一群人保持原价。则有：\n",
    "- associational quantity：$\\mathbb{E}[Y|T=1]-\\mathbb{E}[Y|T=0]$\n",
    "- causal quantity：$\\mathbb{E}[Y(1)-Y(0)]=\\mathbb{E}[Y(1)]-\\mathbb{E}[Y(0)]$\n",
    "\n",
    "我们可能认为前者与后者是相等的，但实际上他们之间并不一定相等。我们分两种情况讨论：\n",
    "- 当存在混杂因子（Confounders）同时影响Treatment和Y时，此时这两者结果不相等；\n",
    "- 当不存在混杂因子时，即$X\\perp T$时，两者结果相等；\n",
    "\n",
    "在这里我们引入了一个混杂因子（confounders）的概念，如下图所示，我们想探究T对于Y的影响，但此时存在X这个混杂因子。"
   ]
  },
  {
   "cell_type": "markdown",
   "metadata": {},
   "source": [
    "![image](f2_confounders.png)"
   ]
  },
  {
   "cell_type": "markdown",
   "metadata": {},
   "source": [
    "设想一个场景，我们对女性更偏向使用打折的策略（T=1），而男性更偏向保持原价的策略（T=0）；此时我们就会发现实验组和对照组中的性别分布存在显著差异，那么就以为这性别这个协变量影响了我们的策略，即存在上图中X到T的那条线；而性别本身又会影响客户的购买行为（女性比男性天然地更偏向购买商品）。\n",
    "\n",
    "那么此时$\\mathbb{E}[Y|T=1]-\\mathbb{E}[Y|T=0] \\ne \\mathbb{E}[Y(1)]-\\mathbb{E}[Y(0)]$。"
   ]
  },
  {
   "cell_type": "markdown",
   "metadata": {},
   "source": [
    "## 交换性（Ignorability and Exchangeability）"
   ]
  },
  {
   "cell_type": "markdown",
   "metadata": {},
   "source": [
    "上面我们提到了associational quantity和causal quantity的不等性，那么在什么情况下可以让两者相等呢？\n",
    "\n",
    "**Assumption: Ignorability/Exchangeability $(Y(1),Y(0))\\perp T$**\n",
    "\n",
    "在Ignorability假设下，我们可以将causal quantity转化为associational quantity：$$\\mathbb{E}[Y(1)]-\\mathbb{E}[Y(0)]=\\mathbb{E}[Y(1)|T=1]-\\mathbb{E}[Y(0)|T=0]=\\mathbb{E}[Y|T=1]-\\mathbb{E}[Y|T=0]$$\n",
    "\n",
    "> 上面公式中第二步到第三步实际还需要consistency假设，在后续进行讲解。"
   ]
  },
  {
   "cell_type": "markdown",
   "metadata": {},
   "source": [
    "**如何理解Ignorability？**\n",
    "\n",
    "从两个角度来理解，第一个角度是如果我们在计算ATE时可以忽略掉（ignore）未观测的样本，此时就满足了Ignorability假设；另一个角度是在因果结构图中，我们如果可以忽略掉（ignore）协变量X到T的线，此时confounding消失，那么我们就可以直接通过associational quantity来计算ATE。"
   ]
  },
  {
   "cell_type": "markdown",
   "metadata": {},
   "source": [
    "![image](f2_ignorability.png)"
   ]
  },
  {
   "cell_type": "markdown",
   "metadata": {},
   "source": [
    "**如何理解exchangeability？**\n",
    "\n",
    "当前我们有两个组A和B，分别施加T=1（实验组）和T=0（对照组），我们能得到组A$Y(1)$和组B$Y(0)$；假设我们调换组A和组B的treatment，即此时组A的T=0（对照组），组B的T=1（实验组），如果此时我们得到的实验组结果$Y(1)$和之前A组相同，对照组结果$Y(0)$和之前B组相同，则我们称之为exchangeability。\n",
    "\n",
    "形式化地来说，有$\\mathbb{E}[Y(1)|T=0]=\\mathbb{E}[Y(1)|T=1]$与$\\mathbb{E}[Y(0)|T=0]=\\mathbb{E}[Y(0)|T=1]$；更一般地，我们有$\\mathbb{E}[Y(1)|T=t]=\\mathbb{E}[Y(1)]$与$\\mathbb{E}[Y(0)|T=t]=\\mathbb{E}[Y(0)$。\n",
    "\n",
    "从通俗的角度来理解exchangeability的概念就是说实验组和对照组是一模一样的样本，即除了treatment不同以外，其余所有的协变量分布都一致；在工业界中，我们常用随机实验（Randomized controlled trial）来进行样本同质性的保证。"
   ]
  },
  {
   "cell_type": "markdown",
   "metadata": {},
   "source": [
    "## 条件交换性（Conditional Exchangeability）"
   ]
  },
  {
   "cell_type": "markdown",
   "metadata": {},
   "source": [
    "在实际中，我们面对的都是大量的观测数据（observational data），我们很难保证实验组和对照组的样本保持完全一致，即难以满足ignorability/exchangeability；但是我们可以对该假设进行进一步的放松，即我们可以找到一个样本子集使得该子集内的样本协变量都能保持一致，因此在给定子集的协变量X的情况下，该子集内的样本满足exchangeability。\n",
    "\n",
    "**Assumption: Conditional Exchangeability/Unconfoundedness $(Y(1),Y(0))\\perp T|X$**\n",
    "\n",
    "即当我们控制了协变量X后，实验组和对照组样本保持了同质，即X不再对T有影响，混杂因子消除。"
   ]
  },
  {
   "cell_type": "markdown",
   "metadata": {},
   "source": [
    "![image](f2_conditional_exchange.png)"
   ]
  },
  {
   "cell_type": "markdown",
   "metadata": {},
   "source": [
    "当满足conditional exchangeability假设下，我们有：$$\\mathbb{E}[Y(1)-Y(0)|X]=\\mathbb{E}[Y(1)|X]-\\mathbb{E}[Y(0)|X]\\\\=\\mathbb{E}[Y(1)|T=1, X]-\\mathbb{E}[Y(0)|T=0, X]\\\\=\\mathbb{E}[Y|T=1, X]-\\mathbb{E}[Y|T=0, X]$$\n",
    "\n",
    "如果我们需要计算边际因果效应（marginal effect）: $$\\mathbb{E}[Y(1)-Y(0)]=\\mathbb{E}_x[\\mathbb{E}[Y(1)-Y(0)|X]\\\\=\\mathbb{E}_x[\\mathbb{E}[Y|T=1,X]-\\mathbb{E}[Y|T=0, X]]$$"
   ]
  },
  {
   "cell_type": "markdown",
   "metadata": {},
   "source": [
    "## 正性（Positivity/Overlap and Extrapolation）"
   ]
  },
  {
   "cell_type": "markdown",
   "metadata": {},
   "source": [
    "Positivity是指对于不同协变量X的样本，其接受treatment的概率（与Propensity Score的定义一致）\n",
    "\n",
    "**Assumption: Positivity $0\\lt P(T=1|X) \\lt 1$**\n",
    "\n",
    "这个假设的核心在于$P(T=1|X)\\ne 0$且$P(T=1|X)\\ne 1$。从公式的角度来理解，假设我们的协变量X与outcome y是离散值，则有：$$\\sum_x P(X=x)(\\sum_y y P(Y=y|T=1, X=x)-\\sum_y y P(Y=y|T=0, X=x))\\\\=\\sum_x P(X=x)(\\sum_y y \\frac{P(Y=y, T=1, X=x)}{P(T=1|X=x)P(X=x)}-\\sum_y y \\frac{P(Y=y, T=0, X=x)}{P(T=0|X=x)P(X=x)})$$\n",
    "\n",
    "如果不满足positivity，则有$P(T=1|X=x)=0或者P(T=0|X=x)=0$的情况，此时causal quantity就无法计算。"
   ]
  },
  {
   "cell_type": "markdown",
   "metadata": {},
   "source": [
    "**从overlap的角度理解**\n",
    "\n",
    "Overlap的含义是指对于T=1和T=0的样本，其协变量的分布需要有交叉，否则causal quantity则无法计算。以商品打折为例，假设我们打折的客户都是女性，则有$P(T=1|X=female)=1$；保持原价的都是男性，则$P(T=0|X=male)=0$，此时意味着positivity不满足，我们同样无法计算causal quantity。\n",
    "\n",
    "> positivity也称common support"
   ]
  },
  {
   "cell_type": "markdown",
   "metadata": {},
   "source": [
    "**Positivity-Unconfoundedness Tradeoff**\n",
    "当我们所控制的协变量越多时，我们就更容易满足unconfoundedness，但随之而来的是我们越容易破坏positivity；这是因为随着我们的协变量X维度增加，就越有可能出现子集中全部是treatment样本，或者是control样本，此时positivity就没办法满足，从而无法进行causal quantity的计算。\n",
    "\n",
    "**Extrapolation**\n",
    "Positivity如果不满足，还会带来外推性的问题（Extrapolation）。即如下图所示，当我们的Treatment和control组在协变量上没有overlap时，对于反事实结果的预估就要靠模型外推，显然影响最终的causal quantity的估计。"
   ]
  },
  {
   "cell_type": "markdown",
   "metadata": {},
   "source": [
    "![image](f2_extrapolation.png)"
   ]
  },
  {
   "cell_type": "markdown",
   "metadata": {},
   "source": [
    "## 互斥性（No interference）"
   ]
  },
  {
   "cell_type": "markdown",
   "metadata": {},
   "source": [
    "互斥性指的是outcome只受到当前treatment的影响，而不受到任何其它treatment的影响。\n",
    "\n",
    "**Assumption: No Inference $Y_i(t1,\\cdots,t_{i-1},t_i,t_{i+1},\\cdots, t_n)=Y_i(t_i)$**"
   ]
  },
  {
   "cell_type": "markdown",
   "metadata": {},
   "source": [
    "## 一致性（Consistency）"
   ]
  },
  {
   "cell_type": "markdown",
   "metadata": {},
   "source": [
    "一致性是指在给定treatment为T时，我们所得到的观测结果（observational outcome）Y就等于在treatment为T时的潜在结果（potential outcome）。\n",
    "\n",
    "**Assumption: $T=t \\Rightarrow Y=Y(t)$**\n",
    "\n",
    "回顾我们上面关于ATE的推导，只含有满足Consistency的情况下，才有：$$\\mathbb{E}[Y(1)|T=1,X]-\\mathbb{E}[Y(0)|T=0,X]=\\mathbb{E}[Y|T=1,X]-\\mathbb{E}[Y|T=0,X]$$"
   ]
  },
  {
   "cell_type": "markdown",
   "metadata": {},
   "source": [
    "# 假设的结合与应用（Try It All Together）"
   ]
  },
  {
   "cell_type": "markdown",
   "metadata": {},
   "source": [
    "在上面的章节中我们共提到了5个假设：\n",
    "- Ignorability/Exchangeability\n",
    "- Conditional Exchangeability/Unconfoundedness\n",
    "- Positivity\n",
    "- No Inference\n",
    "- Consistency"
   ]
  },
  {
   "cell_type": "markdown",
   "metadata": {},
   "source": [
    "**Identifiability：如果我们可以单纯通过统计学计算出因果量，则该因果量是可识别的（identifiable）**。更直观地讲，可识别性就是指我们通过将因果估计转换为等价的统计估计的过程。"
   ]
  },
  {
   "cell_type": "markdown",
   "metadata": {},
   "source": [
    "**Adjustment Forrmula: 利用上面5个假设，我们可以通过统计量得到ATE的因果量**\n",
    "\n",
    "![image](f2_formula.png)"
   ]
  },
  {
   "cell_type": "markdown",
   "metadata": {},
   "source": [
    "# 一些统计学的术语（Fancy Statistic Terminology Defancified）"
   ]
  },
  {
   "cell_type": "markdown",
   "metadata": {},
   "source": [
    "- Estimand：any quantity we want to estimate\n",
    "- Estimate：approximation of some estimand, using data\n",
    "- Estimation： process for getting from data + estimmand to estimate\n"
   ]
  },
  {
   "cell_type": "markdown",
   "metadata": {},
   "source": [
    "我们通过Identifiability将causal estimand转换为等价的statistic estimand，进而采用数据对最终的estimate进行估计得到estimation。"
   ]
  },
  {
   "cell_type": "markdown",
   "metadata": {},
   "source": [
    "![image](f2_flowchart.png)"
   ]
  }
 ],
 "metadata": {
  "kernelspec": {
   "display_name": "Python 3",
   "language": "python",
   "name": "python3"
  },
  "language_info": {
   "codemirror_mode": {
    "name": "ipython",
    "version": 3
   },
   "file_extension": ".py",
   "mimetype": "text/x-python",
   "name": "python",
   "nbconvert_exporter": "python",
   "pygments_lexer": "ipython3",
   "version": "3.8.5"
  },
  "toc": {
   "base_numbering": 1,
   "nav_menu": {},
   "number_sections": true,
   "sideBar": true,
   "skip_h1_title": false,
   "title_cell": "Table of Contents",
   "title_sidebar": "Contents",
   "toc_cell": false,
   "toc_position": {
    "height": "calc(100% - 180px)",
    "left": "10px",
    "top": "150px",
    "width": "336px"
   },
   "toc_section_display": true,
   "toc_window_display": true
  }
 },
 "nbformat": 4,
 "nbformat_minor": 4
}
